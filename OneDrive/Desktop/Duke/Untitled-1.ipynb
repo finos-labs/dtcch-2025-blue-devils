{
 "cells": [
  {
   "cell_type": "code",
   "execution_count": null,
   "metadata": {},
   "outputs": [],
   "source": [
    "import pandas as pd\n",
    "from transformers import pipeline\n",
    "from datasets import Dataset\n",
    "\n",
    "# **加载 FinBERT（使用 GPU 加速）**\n",
    "finbert = pipeline(\"sentiment-analysis\", model=\"yiyanghkust/finbert-tone\", device=0)\n",
    "\n",
    "# **读取 Excel 数据**\n",
    "df = pd.read_excel(\"updated_news_refinitiv.xlsx\", engine=\"openpyxl\")\n",
    "\n",
    "# **去重 headline**\n",
    "df_uni = df.drop_duplicates(subset=[\"headline\"], keep=\"first\")\n",
    "\n",
    "# **转换为 Hugging Face Dataset（优化 GPU 计算）**\n",
    "dataset = Dataset.from_pandas(df_uni)\n",
    "\n",
    "# **批量推理（自动分批，提高 GPU 利用率）**\n",
    "results = finbert(dataset[\"headline\"], batch_size=32)\n",
    "\n",
    "# **拆分结果**\n",
    "df_uni[\"sentiment\"] = [res[\"label\"] for res in results]\n",
    "df_uni[\"confidence\"] = [res[\"score\"] for res in results]\n",
    "\n",
    "# **显示前 10 行**\n",
    "print(df_uni.head(10))"
   ]
  }
 ],
 "metadata": {
  "language_info": {
   "name": "python"
  }
 },
 "nbformat": 4,
 "nbformat_minor": 2
}

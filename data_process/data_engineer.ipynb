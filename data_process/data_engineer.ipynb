{
 "cells": [
  {
   "cell_type": "code",
   "execution_count": 1,
   "id": "11d8f4ac-431d-4d18-a8fe-28a6352b4f57",
   "metadata": {},
   "outputs": [],
   "source": [
    "import pandas as pd"
   ]
  },
  {
   "cell_type": "code",
   "execution_count": 2,
   "id": "fc552a7a-592d-4138-884a-7cbfb3242a89",
   "metadata": {},
   "outputs": [
    {
     "data": {
      "text/html": [
       "<div>\n",
       "<style scoped>\n",
       "    .dataframe tbody tr th:only-of-type {\n",
       "        vertical-align: middle;\n",
       "    }\n",
       "\n",
       "    .dataframe tbody tr th {\n",
       "        vertical-align: top;\n",
       "    }\n",
       "\n",
       "    .dataframe thead th {\n",
       "        text-align: right;\n",
       "    }\n",
       "</style>\n",
       "<table border=\"1\" class=\"dataframe\">\n",
       "  <thead>\n",
       "    <tr style=\"text-align: right;\">\n",
       "      <th></th>\n",
       "      <th>ticker</th>\n",
       "      <th>time</th>\n",
       "      <th>source</th>\n",
       "      <th>headline</th>\n",
       "      <th>trading_status</th>\n",
       "    </tr>\n",
       "  </thead>\n",
       "  <tbody>\n",
       "    <tr>\n",
       "      <th>0</th>\n",
       "      <td>AAPL</td>\n",
       "      <td>2024-01-01 03:07:40</td>\n",
       "      <td>NS:ASSOPR</td>\n",
       "      <td>AP Top Technology News at 3:03 a.m. EST</td>\n",
       "      <td>Non-Trading</td>\n",
       "    </tr>\n",
       "    <tr>\n",
       "      <th>1</th>\n",
       "      <td>AAPL</td>\n",
       "      <td>2024-01-01 04:28:07</td>\n",
       "      <td>NS:INDEPE</td>\n",
       "      <td>January sales 2023 UK ?€? live: Today's best n...</td>\n",
       "      <td>Non-Trading</td>\n",
       "    </tr>\n",
       "    <tr>\n",
       "      <th>2</th>\n",
       "      <td>AAPL</td>\n",
       "      <td>2024-01-01 04:28:18</td>\n",
       "      <td>NS:HINDUT</td>\n",
       "      <td>Iphone's new iOS update causing connectivity i...</td>\n",
       "      <td>Non-Trading</td>\n",
       "    </tr>\n",
       "    <tr>\n",
       "      <th>3</th>\n",
       "      <td>AAPL</td>\n",
       "      <td>2024-01-01 11:31:26</td>\n",
       "      <td>NS:INDIAE</td>\n",
       "      <td>My wishlist: What Apple needs to fix in 2024</td>\n",
       "      <td>Non-Trading</td>\n",
       "    </tr>\n",
       "    <tr>\n",
       "      <th>4</th>\n",
       "      <td>AAPL</td>\n",
       "      <td>2024-01-01 12:01:12</td>\n",
       "      <td>NS:INDIAE</td>\n",
       "      <td>Tech News Today: iPhone 15 for Rs 66,990, ISRO...</td>\n",
       "      <td>Non-Trading</td>\n",
       "    </tr>\n",
       "  </tbody>\n",
       "</table>\n",
       "</div>"
      ],
      "text/plain": [
       "  ticker                time     source  \\\n",
       "0   AAPL 2024-01-01 03:07:40  NS:ASSOPR   \n",
       "1   AAPL 2024-01-01 04:28:07  NS:INDEPE   \n",
       "2   AAPL 2024-01-01 04:28:18  NS:HINDUT   \n",
       "3   AAPL 2024-01-01 11:31:26  NS:INDIAE   \n",
       "4   AAPL 2024-01-01 12:01:12  NS:INDIAE   \n",
       "\n",
       "                                            headline trading_status  \n",
       "0            AP Top Technology News at 3:03 a.m. EST    Non-Trading  \n",
       "1  January sales 2023 UK ?€? live: Today's best n...    Non-Trading  \n",
       "2  Iphone's new iOS update causing connectivity i...    Non-Trading  \n",
       "3       My wishlist: What Apple needs to fix in 2024    Non-Trading  \n",
       "4  Tech News Today: iPhone 15 for Rs 66,990, ISRO...    Non-Trading  "
      ]
     },
     "execution_count": 2,
     "metadata": {},
     "output_type": "execute_result"
    }
   ],
   "source": [
    "df = pd.read_excel('cleaned_final.xlsx')\n",
    "df.head()"
   ]
  },
  {
   "cell_type": "code",
   "execution_count": 3,
   "id": "a794b7f5-cc02-4169-b372-0aa71e61c45e",
   "metadata": {},
   "outputs": [],
   "source": [
    "dict1 = {\n",
    "    'AAPL': 'Apple',\n",
    "    'BAC': 'Bank of America',\n",
    "    'SNAP': 'Snap Inc.',\n",
    "    'PFE': 'Pfizer',\n",
    "    'NIO': 'NIO Inc.',\n",
    "    'NVDA': 'NVIDIA',\n",
    "    'TSLA': 'Tesla',\n",
    "    'SMCI': 'Super Micro Computer',\n",
    "    'PLTR': 'Palantir Technologies',\n",
    "    'INTC': 'Intel',\n",
    "    'MARA': 'Marathon Digital',\n",
    "    'AMD': 'Advanced Micro Devices',\n",
    "    'SOFI': 'SoFi Technologies',\n",
    "    'PLUG': 'Plug Power',\n",
    "    'LCID': 'Lucid Motors',\n",
    "    'SOUN': 'SoundHound AI',\n",
    "    'AMZN': 'Amazon',\n",
    "    'RIVN': 'Rivian',\n",
    "    'CLSK': 'CleanSpark',\n",
    "    'TLRY': 'Tilray Brands'\n",
    "} #company full name\n"
   ]
  },
  {
   "cell_type": "code",
   "execution_count": 19,
   "id": "c41dc236-2a4f-44ee-a0db-d5f08703364a",
   "metadata": {},
   "outputs": [],
   "source": [
    "#classify if the headline is specifically relevant to company\n",
    "df['company_news'] = df.apply(lambda x: 0 if (dict1[x['ticker']].lower() in x['headline'].lower()) or \n",
    "                                          (x['ticker'].lower() in x['headline'].lower()) else 1, axis = 1)"
   ]
  },
  {
   "cell_type": "code",
   "execution_count": 20,
   "id": "4b849f8d-ac42-4152-8043-f7b734b336da",
   "metadata": {},
   "outputs": [
    {
     "data": {
      "text/html": [
       "<div>\n",
       "<style scoped>\n",
       "    .dataframe tbody tr th:only-of-type {\n",
       "        vertical-align: middle;\n",
       "    }\n",
       "\n",
       "    .dataframe tbody tr th {\n",
       "        vertical-align: top;\n",
       "    }\n",
       "\n",
       "    .dataframe thead th {\n",
       "        text-align: right;\n",
       "    }\n",
       "</style>\n",
       "<table border=\"1\" class=\"dataframe\">\n",
       "  <thead>\n",
       "    <tr style=\"text-align: right;\">\n",
       "      <th></th>\n",
       "      <th>ticker</th>\n",
       "      <th>time</th>\n",
       "      <th>source</th>\n",
       "      <th>headline</th>\n",
       "      <th>trading_status</th>\n",
       "      <th>company_news</th>\n",
       "    </tr>\n",
       "  </thead>\n",
       "  <tbody>\n",
       "    <tr>\n",
       "      <th>0</th>\n",
       "      <td>AAPL</td>\n",
       "      <td>2024-01-01 03:07:40</td>\n",
       "      <td>NS:ASSOPR</td>\n",
       "      <td>AP Top Technology News at 3:03 a.m. EST</td>\n",
       "      <td>Non-Trading</td>\n",
       "      <td>1</td>\n",
       "    </tr>\n",
       "    <tr>\n",
       "      <th>1</th>\n",
       "      <td>AAPL</td>\n",
       "      <td>2024-01-01 04:28:07</td>\n",
       "      <td>NS:INDEPE</td>\n",
       "      <td>January sales 2023 UK ?€? live: Today's best n...</td>\n",
       "      <td>Non-Trading</td>\n",
       "      <td>0</td>\n",
       "    </tr>\n",
       "    <tr>\n",
       "      <th>2</th>\n",
       "      <td>AAPL</td>\n",
       "      <td>2024-01-01 04:28:18</td>\n",
       "      <td>NS:HINDUT</td>\n",
       "      <td>Iphone's new iOS update causing connectivity i...</td>\n",
       "      <td>Non-Trading</td>\n",
       "      <td>0</td>\n",
       "    </tr>\n",
       "    <tr>\n",
       "      <th>3</th>\n",
       "      <td>AAPL</td>\n",
       "      <td>2024-01-01 11:31:26</td>\n",
       "      <td>NS:INDIAE</td>\n",
       "      <td>My wishlist: What Apple needs to fix in 2024</td>\n",
       "      <td>Non-Trading</td>\n",
       "      <td>0</td>\n",
       "    </tr>\n",
       "    <tr>\n",
       "      <th>4</th>\n",
       "      <td>AAPL</td>\n",
       "      <td>2024-01-01 12:01:12</td>\n",
       "      <td>NS:INDIAE</td>\n",
       "      <td>Tech News Today: iPhone 15 for Rs 66,990, ISRO...</td>\n",
       "      <td>Non-Trading</td>\n",
       "      <td>1</td>\n",
       "    </tr>\n",
       "  </tbody>\n",
       "</table>\n",
       "</div>"
      ],
      "text/plain": [
       "  ticker                time     source  \\\n",
       "0   AAPL 2024-01-01 03:07:40  NS:ASSOPR   \n",
       "1   AAPL 2024-01-01 04:28:07  NS:INDEPE   \n",
       "2   AAPL 2024-01-01 04:28:18  NS:HINDUT   \n",
       "3   AAPL 2024-01-01 11:31:26  NS:INDIAE   \n",
       "4   AAPL 2024-01-01 12:01:12  NS:INDIAE   \n",
       "\n",
       "                                            headline trading_status  \\\n",
       "0            AP Top Technology News at 3:03 a.m. EST    Non-Trading   \n",
       "1  January sales 2023 UK ?€? live: Today's best n...    Non-Trading   \n",
       "2  Iphone's new iOS update causing connectivity i...    Non-Trading   \n",
       "3       My wishlist: What Apple needs to fix in 2024    Non-Trading   \n",
       "4  Tech News Today: iPhone 15 for Rs 66,990, ISRO...    Non-Trading   \n",
       "\n",
       "   company_news  \n",
       "0             1  \n",
       "1             0  \n",
       "2             0  \n",
       "3             0  \n",
       "4             1  "
      ]
     },
     "execution_count": 20,
     "metadata": {},
     "output_type": "execute_result"
    }
   ],
   "source": [
    "df.head()"
   ]
  },
  {
   "cell_type": "code",
   "execution_count": 21,
   "id": "d6df7017-7f8f-49e0-a57e-3feba1676622",
   "metadata": {},
   "outputs": [
    {
     "data": {
      "text/plain": [
       "82819"
      ]
     },
     "execution_count": 21,
     "metadata": {},
     "output_type": "execute_result"
    }
   ],
   "source": [
    "len(df)"
   ]
  },
  {
   "cell_type": "code",
   "execution_count": 22,
   "id": "fa6409bf-26e6-4138-a74a-4e579ea62ee8",
   "metadata": {},
   "outputs": [
    {
     "data": {
      "text/plain": [
       "64293"
      ]
     },
     "execution_count": 22,
     "metadata": {},
     "output_type": "execute_result"
    }
   ],
   "source": [
    "df_cleaned = df.drop_duplicates(subset=['ticker', 'headline'])\n",
    "#remove same news in the same ticker\n",
    "len(df_cleaned)"
   ]
  },
  {
   "cell_type": "code",
   "execution_count": 26,
   "id": "3b6f1298-3c99-484c-bee2-9aa45f43432f",
   "metadata": {},
   "outputs": [],
   "source": [
    "df_cleaned.to_csv('final_cleaned_data.csv', index=False)"
   ]
  },
  {
   "cell_type": "code",
   "execution_count": null,
   "id": "b7625d28-4c61-469b-aa3e-244ff133ea0f",
   "metadata": {},
   "outputs": [],
   "source": []
  }
 ],
 "metadata": {
  "kernelspec": {
   "display_name": "Python 3 (ipykernel)",
   "language": "python",
   "name": "python3"
  },
  "language_info": {
   "codemirror_mode": {
    "name": "ipython",
    "version": 3
   },
   "file_extension": ".py",
   "mimetype": "text/x-python",
   "name": "python",
   "nbconvert_exporter": "python",
   "pygments_lexer": "ipython3",
   "version": "3.11.7"
  }
 },
 "nbformat": 4,
 "nbformat_minor": 5
}

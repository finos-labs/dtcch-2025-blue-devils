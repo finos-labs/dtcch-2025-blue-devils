{
 "cells": [
  {
   "cell_type": "code",
   "execution_count": 1,
   "id": "4c18d05a-ffe9-4ca7-9ccd-88ce7c0ddb9a",
   "metadata": {},
   "outputs": [],
   "source": [
    "import pandas as pd\n",
    "import numpy as np\n",
    "from datetime import time"
   ]
  },
  {
   "cell_type": "code",
   "execution_count": 90,
   "id": "bfde1701-d6a5-4693-be71-336b6dccc467",
   "metadata": {},
   "outputs": [
    {
     "data": {
      "text/html": [
       "<div>\n",
       "<style scoped>\n",
       "    .dataframe tbody tr th:only-of-type {\n",
       "        vertical-align: middle;\n",
       "    }\n",
       "\n",
       "    .dataframe tbody tr th {\n",
       "        vertical-align: top;\n",
       "    }\n",
       "\n",
       "    .dataframe thead th {\n",
       "        text-align: right;\n",
       "    }\n",
       "</style>\n",
       "<table border=\"1\" class=\"dataframe\">\n",
       "  <thead>\n",
       "    <tr style=\"text-align: right;\">\n",
       "      <th></th>\n",
       "      <th>Eastern_Time</th>\n",
       "      <th>cleaned_time</th>\n",
       "    </tr>\n",
       "  </thead>\n",
       "  <tbody>\n",
       "    <tr>\n",
       "      <th>0</th>\n",
       "      <td>2024-01-02 09:30:00-05:00</td>\n",
       "      <td>2024-01-02 09:30:00</td>\n",
       "    </tr>\n",
       "    <tr>\n",
       "      <th>1</th>\n",
       "      <td>2024-01-02 10:30:00-05:00</td>\n",
       "      <td>2024-01-02 10:30:00</td>\n",
       "    </tr>\n",
       "    <tr>\n",
       "      <th>2</th>\n",
       "      <td>2024-01-02 11:30:00-05:00</td>\n",
       "      <td>2024-01-02 11:30:00</td>\n",
       "    </tr>\n",
       "    <tr>\n",
       "      <th>3</th>\n",
       "      <td>2024-01-02 12:30:00-05:00</td>\n",
       "      <td>2024-01-02 12:30:00</td>\n",
       "    </tr>\n",
       "    <tr>\n",
       "      <th>4</th>\n",
       "      <td>2024-01-02 13:30:00-05:00</td>\n",
       "      <td>2024-01-02 13:30:00</td>\n",
       "    </tr>\n",
       "  </tbody>\n",
       "</table>\n",
       "</div>"
      ],
      "text/plain": [
       "                Eastern_Time        cleaned_time\n",
       "0  2024-01-02 09:30:00-05:00 2024-01-02 09:30:00\n",
       "1  2024-01-02 10:30:00-05:00 2024-01-02 10:30:00\n",
       "2  2024-01-02 11:30:00-05:00 2024-01-02 11:30:00\n",
       "3  2024-01-02 12:30:00-05:00 2024-01-02 12:30:00\n",
       "4  2024-01-02 13:30:00-05:00 2024-01-02 13:30:00"
      ]
     },
     "execution_count": 90,
     "metadata": {},
     "output_type": "execute_result"
    }
   ],
   "source": [
    "df = pd.read_csv(\"hourly_volume_data_eastern.csv\").iloc[:,-1:]\n",
    "df[\"cleaned_time\"] = vol.apply(lambda x: x['Eastern_Time'][:-6], axis = 1)\n",
    "df['cleaned_time'] = pd.to_datetime(vol['cleaned_time'])\n",
    "df.head()"
   ]
  },
  {
   "cell_type": "code",
   "execution_count": 91,
   "id": "674b2b66-9ab8-4303-86a1-9ee33e167b24",
   "metadata": {},
   "outputs": [],
   "source": [
    "\n",
    "# Extract date only (for daily-level labeling)\n",
    "df['date_only'] = df['cleaned_time'].dt.date\n",
    "df.drop_duplicates('date_only', inplace = True)\n",
    "\n",
    "# Extract day of the week\n",
    "df['day_of_week'] = df['cleaned_time'].dt.day_name() # Get day name (Monday, Tuesday, etc.)\n",
    "\n",
    "# Create a daily DataFrame (only one row per date)\n",
    "df_daily = df[['date_only']].drop_duplicates().reset_index(drop=True)\n",
    "\n",
    "# First and Last Trading Day of the Month\n",
    "df_daily['first_trading_day'] = df_daily.groupby(pd.to_datetime(df_daily['date_only']).dt.to_period('M'))['date_only'].transform('min')\n",
    "df_daily['last_trading_day'] = df_daily.groupby(pd.to_datetime(df_daily['date_only']).dt.to_period('M'))['date_only'].transform('max')\n",
    "\n",
    "# Last Trading Day of the Quarter\n",
    "df_daily['last_trading_day_of_quarter'] = df_daily.groupby(pd.to_datetime(df_daily['date_only']).dt.to_period('Q'))['date_only'].transform('max')\n",
    "\n",
    "# Option Expiry Date (Third Friday of each month)\n",
    "def get_option_expiry(d):\n",
    "    first_day = d.replace(day=1)\n",
    "    first_friday = first_day + pd.DateOffset(days=(4 - first_day.weekday() + 7) % 7)\n",
    "    third_friday = first_friday + pd.DateOffset(weeks=2)\n",
    "    return third_friday.date()\n",
    "\n",
    "df_daily['third_friday'] = df_daily['date_only'].apply(lambda d: get_option_expiry(pd.to_datetime(d)))\n",
    "df_daily['option_expiry'] = df_daily.groupby(pd.to_datetime(df_daily['date_only']).dt.to_period('M'))['third_friday'].transform('max')\n",
    "\n",
    "# Convert to binary dummy features\n",
    "df_daily['is_option_expiry'] = (df_daily['date_only'] == df_daily['option_expiry']).astype(int)\n",
    "df_daily['is_first_trading_day'] = (df_daily['date_only'] == df_daily['first_trading_day']).astype(int)\n",
    "df_daily['is_last_trading_day'] = (df_daily['date_only'] == df_daily['last_trading_day']).astype(int)\n",
    "df_daily['is_last_trading_day_of_quarter'] = (df_daily['date_only'] == df_daily['last_trading_day_of_quarter']).astype(int)\n",
    "\n",
    "# Dummify the day_of_week\n",
    "day_of_week_dummies = pd.get_dummies(pd.to_datetime(df_daily['date_only']).dt.day_name(), dtype=int)\n",
    "df_daily = pd.concat([df_daily, day_of_week_dummies], axis=1)\n",
    "\n",
    "# Merge back to original hourly dataframe based on `date_only`\n",
    "df = df.merge(df_daily, on='date_only', how='left')\n",
    "\n",
    "# Drop unnecessary columns\n",
    "df = df.drop(columns=['first_trading_day', 'last_trading_day', 'last_trading_day_of_quarter', 'third_friday', 'option_expiry'])"
   ]
  },
  {
   "cell_type": "code",
   "execution_count": 92,
   "id": "55f006e4-593c-491d-a6a9-6946459b9899",
   "metadata": {},
   "outputs": [
    {
     "data": {
      "text/plain": [
       "Index(['Eastern_Time', 'cleaned_time', 'date_only', 'day_of_week',\n",
       "       'is_option_expiry', 'is_first_trading_day', 'is_last_trading_day',\n",
       "       'is_last_trading_day_of_quarter', 'Friday', 'Monday', 'Thursday',\n",
       "       'Tuesday', 'Wednesday'],\n",
       "      dtype='object')"
      ]
     },
     "execution_count": 92,
     "metadata": {},
     "output_type": "execute_result"
    }
   ],
   "source": [
    "df.columns"
   ]
  },
  {
   "cell_type": "code",
   "execution_count": 93,
   "id": "455c63c4-f423-4aa2-96cb-d1f686882344",
   "metadata": {},
   "outputs": [],
   "source": [
    "df.to_csv(\"dates_feature.csv\",index=False)"
   ]
  },
  {
   "cell_type": "code",
   "execution_count": null,
   "id": "746b1a9f-bb94-4dd0-9360-bdd62ff96b98",
   "metadata": {},
   "outputs": [],
   "source": []
  }
 ],
 "metadata": {
  "kernelspec": {
   "display_name": "Python 3 (ipykernel)",
   "language": "python",
   "name": "python3"
  },
  "language_info": {
   "codemirror_mode": {
    "name": "ipython",
    "version": 3
   },
   "file_extension": ".py",
   "mimetype": "text/x-python",
   "name": "python",
   "nbconvert_exporter": "python",
   "pygments_lexer": "ipython3",
   "version": "3.11.7"
  }
 },
 "nbformat": 4,
 "nbformat_minor": 5
}

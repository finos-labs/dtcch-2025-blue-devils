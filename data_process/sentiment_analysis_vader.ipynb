{
 "cells": [
  {
   "cell_type": "code",
   "execution_count": 4,
   "metadata": {},
   "outputs": [
    {
     "name": "stderr",
     "output_type": "stream",
     "text": [
      "[nltk_data] Downloading package vader_lexicon to\n",
      "[nltk_data]     /Users/chennnnn/nltk_data...\n",
      "[nltk_data]   Package vader_lexicon is already up-to-date!\n",
      "Pandas Apply: 100%|██████████| 64293/64293 [00:04<00:00, 14779.27it/s]\n"
     ]
    }
   ],
   "source": [
    "import pandas as pd\n",
    "import nltk\n",
    "from nltk.sentiment import SentimentIntensityAnalyzer\n",
    "import swifter  # For automatic parallelization optimization\n",
    "\n",
    "# **Download VADER lexicon**\n",
    "nltk.download('vader_lexicon')\n",
    "\n",
    "# **Initialize VADER**\n",
    "sia = SentimentIntensityAnalyzer()\n",
    "\n",
    "# **Read CSV data**\n",
    "df = pd.read_csv(\"../data/final_cleaned_data.csv\")\n",
    "\n",
    "# **VADER Sentiment Analysis**\n",
    "def vader_sentiment(text):\n",
    "    scores = sia.polarity_scores(text)\n",
    "    return scores[\"neg\"], scores[\"neu\"], scores[\"pos\"], scores[\"compound\"]\n",
    "\n",
    "# **Parallel computation (optimized by swifter)**\n",
    "df[[\"negative\", \"neutral\", \"positive\", \"sentiment_score\"]] = df[\"headline\"].swifter.apply(lambda x: pd.Series(vader_sentiment(str(x))))\n",
    "\n",
    "# **Save results**\n",
    "df.to_csv(\"../data/sentiment_results_vader.csv\", index=False)"
   ]
  }
 ],
 "metadata": {
  "kernelspec": {
   "display_name": ".venv",
   "language": "python",
   "name": "python3"
  },
  "language_info": {
   "codemirror_mode": {
    "name": "ipython",
    "version": 3
   },
   "file_extension": ".py",
   "mimetype": "text/x-python",
   "name": "python",
   "nbconvert_exporter": "python",
   "pygments_lexer": "ipython3",
   "version": "3.13.1"
  }
 },
 "nbformat": 4,
 "nbformat_minor": 2
}

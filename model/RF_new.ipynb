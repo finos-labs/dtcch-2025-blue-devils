{
 "cells": [
  {
   "cell_type": "code",
   "execution_count": 8,
   "id": "3c230fcb",
   "metadata": {},
   "outputs": [
    {
     "name": "stdout",
     "output_type": "stream",
     "text": [
      "\n",
      "Feature Importance:\n",
      "SentimentImpact      0.408536\n",
      "DayTotalVol_Lag_1    0.337256\n",
      "DayTotalVol_Lag_2    0.074493\n",
      "DayTotalVol_Lag_4    0.064485\n",
      "DayTotalVol_Lag_5    0.063113\n",
      "DayTotalVol_Lag_3    0.052117\n",
      "dtype: float64\n",
      "\n",
      "Feature Importance Rank:\n",
      "SentimentImpact      1.0\n",
      "DayTotalVol_Lag_1    2.0\n",
      "DayTotalVol_Lag_2    3.0\n",
      "DayTotalVol_Lag_4    4.0\n",
      "DayTotalVol_Lag_5    5.0\n",
      "DayTotalVol_Lag_3    6.0\n",
      "dtype: float64\n"
     ]
    },
    {
     "name": "stderr",
     "output_type": "stream",
     "text": [
      "C:\\Users\\22004\\anaconda3\\lib\\site-packages\\sklearn\\metrics\\_regression.py:682: UndefinedMetricWarning: R^2 score is not well-defined with less than two samples.\n",
      "  warnings.warn(msg, UndefinedMetricWarning)\n"
     ]
    },
    {
     "name": "stdout",
     "output_type": "stream",
     "text": [
      "Date: 2024-10-01T00:00:00.000000000\n",
      "Predicted Value: [2.4718329]\n",
      "Actual Value: [2.5533756]\n",
      "Mean Squared Error: 0.006649211639535791\n",
      "R-squared Score: nan\n",
      "\n",
      "\n"
     ]
    },
    {
     "name": "stderr",
     "output_type": "stream",
     "text": [
      "C:\\Users\\22004\\anaconda3\\lib\\site-packages\\sklearn\\metrics\\_regression.py:682: UndefinedMetricWarning: R^2 score is not well-defined with less than two samples.\n",
      "  warnings.warn(msg, UndefinedMetricWarning)\n"
     ]
    },
    {
     "name": "stdout",
     "output_type": "stream",
     "text": [
      "Date: 2024-10-02T00:00:00.000000000\n",
      "Predicted Value: [3.10048371]\n",
      "Actual Value: [3.8780956]\n",
      "Mean Squared Error: 0.6046802515473919\n",
      "R-squared Score: nan\n",
      "\n",
      "\n"
     ]
    },
    {
     "name": "stderr",
     "output_type": "stream",
     "text": [
      "C:\\Users\\22004\\anaconda3\\lib\\site-packages\\sklearn\\metrics\\_regression.py:682: UndefinedMetricWarning: R^2 score is not well-defined with less than two samples.\n",
      "  warnings.warn(msg, UndefinedMetricWarning)\n"
     ]
    },
    {
     "name": "stdout",
     "output_type": "stream",
     "text": [
      "Date: 2024-10-03T00:00:00.000000000\n",
      "Predicted Value: [2.79654644]\n",
      "Actual Value: [2.1382081]\n",
      "Mean Squared Error: 0.43340936571364586\n",
      "R-squared Score: nan\n",
      "\n",
      "\n"
     ]
    },
    {
     "name": "stderr",
     "output_type": "stream",
     "text": [
      "C:\\Users\\22004\\anaconda3\\lib\\site-packages\\sklearn\\metrics\\_regression.py:682: UndefinedMetricWarning: R^2 score is not well-defined with less than two samples.\n",
      "  warnings.warn(msg, UndefinedMetricWarning)\n"
     ]
    },
    {
     "name": "stdout",
     "output_type": "stream",
     "text": [
      "Date: 2024-10-04T00:00:00.000000000\n",
      "Predicted Value: [2.99300349]\n",
      "Actual Value: [2.7428791]\n",
      "Mean Squared Error: 0.06256221076304479\n",
      "R-squared Score: nan\n",
      "\n",
      "\n"
     ]
    },
    {
     "name": "stderr",
     "output_type": "stream",
     "text": [
      "C:\\Users\\22004\\anaconda3\\lib\\site-packages\\sklearn\\metrics\\_regression.py:682: UndefinedMetricWarning: R^2 score is not well-defined with less than two samples.\n",
      "  warnings.warn(msg, UndefinedMetricWarning)\n"
     ]
    },
    {
     "name": "stdout",
     "output_type": "stream",
     "text": [
      "Date: 2024-10-07T00:00:00.000000000\n",
      "Predicted Value: [2.63080646]\n",
      "Actual Value: [1.9605808]\n",
      "Mean Squared Error: 0.4492024330168122\n",
      "R-squared Score: nan\n",
      "\n",
      "\n"
     ]
    },
    {
     "name": "stderr",
     "output_type": "stream",
     "text": [
      "C:\\Users\\22004\\anaconda3\\lib\\site-packages\\sklearn\\metrics\\_regression.py:682: UndefinedMetricWarning: R^2 score is not well-defined with less than two samples.\n",
      "  warnings.warn(msg, UndefinedMetricWarning)\n"
     ]
    },
    {
     "name": "stdout",
     "output_type": "stream",
     "text": [
      "Date: 2024-10-08T00:00:00.000000000\n",
      "Predicted Value: [2.20589661]\n",
      "Actual Value: [1.9201124]\n",
      "Mean Squared Error: 0.08167261612002231\n",
      "R-squared Score: nan\n",
      "\n",
      "\n"
     ]
    },
    {
     "name": "stderr",
     "output_type": "stream",
     "text": [
      "C:\\Users\\22004\\anaconda3\\lib\\site-packages\\sklearn\\metrics\\_regression.py:682: UndefinedMetricWarning: R^2 score is not well-defined with less than two samples.\n",
      "  warnings.warn(msg, UndefinedMetricWarning)\n"
     ]
    },
    {
     "name": "stdout",
     "output_type": "stream",
     "text": [
      "Date: 2024-10-09T00:00:00.000000000\n",
      "Predicted Value: [2.17580992]\n",
      "Actual Value: [2.203075]\n",
      "Mean Squared Error: 0.0007433844461671447\n",
      "R-squared Score: nan\n",
      "\n",
      "\n"
     ]
    },
    {
     "name": "stderr",
     "output_type": "stream",
     "text": [
      "C:\\Users\\22004\\anaconda3\\lib\\site-packages\\sklearn\\metrics\\_regression.py:682: UndefinedMetricWarning: R^2 score is not well-defined with less than two samples.\n",
      "  warnings.warn(msg, UndefinedMetricWarning)\n"
     ]
    },
    {
     "name": "stdout",
     "output_type": "stream",
     "text": [
      "Date: 2024-10-10T00:00:00.000000000\n",
      "Predicted Value: [2.37677781]\n",
      "Actual Value: [3.1783416]\n",
      "Mean Squared Error: 0.6425045146970861\n",
      "R-squared Score: nan\n",
      "\n",
      "\n"
     ]
    },
    {
     "name": "stderr",
     "output_type": "stream",
     "text": [
      "C:\\Users\\22004\\anaconda3\\lib\\site-packages\\sklearn\\metrics\\_regression.py:682: UndefinedMetricWarning: R^2 score is not well-defined with less than two samples.\n",
      "  warnings.warn(msg, UndefinedMetricWarning)\n"
     ]
    },
    {
     "name": "stdout",
     "output_type": "stream",
     "text": [
      "Date: 2024-10-11T00:00:00.000000000\n",
      "Predicted Value: [4.25038261]\n",
      "Actual Value: [6.3796985]\n",
      "Mean Squared Error: 4.533986145012369\n",
      "R-squared Score: nan\n",
      "\n",
      "\n"
     ]
    },
    {
     "name": "stderr",
     "output_type": "stream",
     "text": [
      "C:\\Users\\22004\\anaconda3\\lib\\site-packages\\sklearn\\metrics\\_regression.py:682: UndefinedMetricWarning: R^2 score is not well-defined with less than two samples.\n",
      "  warnings.warn(msg, UndefinedMetricWarning)\n"
     ]
    },
    {
     "name": "stdout",
     "output_type": "stream",
     "text": [
      "Date: 2024-10-14T00:00:00.000000000\n",
      "Predicted Value: [4.35150512]\n",
      "Actual Value: [3.8071963]\n",
      "Mean Squared Error: 0.2962720888299135\n",
      "R-squared Score: nan\n",
      "\n",
      "\n"
     ]
    },
    {
     "name": "stderr",
     "output_type": "stream",
     "text": [
      "C:\\Users\\22004\\anaconda3\\lib\\site-packages\\sklearn\\metrics\\_regression.py:682: UndefinedMetricWarning: R^2 score is not well-defined with less than two samples.\n",
      "  warnings.warn(msg, UndefinedMetricWarning)\n"
     ]
    },
    {
     "name": "stdout",
     "output_type": "stream",
     "text": [
      "Date: 2024-10-15T00:00:00.000000000\n",
      "Predicted Value: [2.83376647]\n",
      "Actual Value: [2.6328427]\n",
      "Mean Squared Error: 0.040370363316093665\n",
      "R-squared Score: nan\n",
      "\n",
      "\n"
     ]
    },
    {
     "name": "stderr",
     "output_type": "stream",
     "text": [
      "C:\\Users\\22004\\anaconda3\\lib\\site-packages\\sklearn\\metrics\\_regression.py:682: UndefinedMetricWarning: R^2 score is not well-defined with less than two samples.\n",
      "  warnings.warn(msg, UndefinedMetricWarning)\n"
     ]
    },
    {
     "name": "stdout",
     "output_type": "stream",
     "text": [
      "Date: 2024-10-16T00:00:00.000000000\n",
      "Predicted Value: [2.29084852]\n",
      "Actual Value: [2.0003609]\n",
      "Mean Squared Error: 0.08438305697243606\n",
      "R-squared Score: nan\n",
      "\n",
      "\n"
     ]
    },
    {
     "name": "stderr",
     "output_type": "stream",
     "text": [
      "C:\\Users\\22004\\anaconda3\\lib\\site-packages\\sklearn\\metrics\\_regression.py:682: UndefinedMetricWarning: R^2 score is not well-defined with less than two samples.\n",
      "  warnings.warn(msg, UndefinedMetricWarning)\n"
     ]
    },
    {
     "name": "stdout",
     "output_type": "stream",
     "text": [
      "Date: 2024-10-17T00:00:00.000000000\n",
      "Predicted Value: [2.27828171]\n",
      "Actual Value: [1.812205]\n",
      "Mean Squared Error: 0.2172275023917049\n",
      "R-squared Score: nan\n",
      "\n",
      "\n"
     ]
    },
    {
     "name": "stderr",
     "output_type": "stream",
     "text": [
      "C:\\Users\\22004\\anaconda3\\lib\\site-packages\\sklearn\\metrics\\_regression.py:682: UndefinedMetricWarning: R^2 score is not well-defined with less than two samples.\n",
      "  warnings.warn(msg, UndefinedMetricWarning)\n"
     ]
    },
    {
     "name": "stdout",
     "output_type": "stream",
     "text": [
      "Date: 2024-10-18T00:00:00.000000000\n",
      "Predicted Value: [2.34076984]\n",
      "Actual Value: [1.709092]\n",
      "Mean Squared Error: 0.39901688827914694\n",
      "R-squared Score: nan\n",
      "\n",
      "\n"
     ]
    },
    {
     "name": "stderr",
     "output_type": "stream",
     "text": [
      "C:\\Users\\22004\\anaconda3\\lib\\site-packages\\sklearn\\metrics\\_regression.py:682: UndefinedMetricWarning: R^2 score is not well-defined with less than two samples.\n",
      "  warnings.warn(msg, UndefinedMetricWarning)\n"
     ]
    },
    {
     "name": "stdout",
     "output_type": "stream",
     "text": [
      "Date: 2024-10-21T00:00:00.000000000\n",
      "Predicted Value: [2.29108917]\n",
      "Actual Value: [1.9608678]\n",
      "Mean Squared Error: 0.10904615244527757\n",
      "R-squared Score: nan\n",
      "\n",
      "\n"
     ]
    },
    {
     "name": "stderr",
     "output_type": "stream",
     "text": [
      "C:\\Users\\22004\\anaconda3\\lib\\site-packages\\sklearn\\metrics\\_regression.py:682: UndefinedMetricWarning: R^2 score is not well-defined with less than two samples.\n",
      "  warnings.warn(msg, UndefinedMetricWarning)\n"
     ]
    },
    {
     "name": "stdout",
     "output_type": "stream",
     "text": [
      "Date: 2024-10-22T00:00:00.000000000\n",
      "Predicted Value: [2.52055782]\n",
      "Actual Value: [1.3147497]\n",
      "Mean Squared Error: 1.453973226888414\n",
      "R-squared Score: nan\n",
      "\n",
      "\n"
     ]
    },
    {
     "name": "stderr",
     "output_type": "stream",
     "text": [
      "C:\\Users\\22004\\anaconda3\\lib\\site-packages\\sklearn\\metrics\\_regression.py:682: UndefinedMetricWarning: R^2 score is not well-defined with less than two samples.\n",
      "  warnings.warn(msg, UndefinedMetricWarning)\n"
     ]
    },
    {
     "name": "stdout",
     "output_type": "stream",
     "text": [
      "Date: 2024-10-23T00:00:00.000000000\n",
      "Predicted Value: [2.51579302]\n",
      "Actual Value: [1.4735216]\n",
      "Mean Squared Error: 1.086329716471802\n",
      "R-squared Score: nan\n",
      "\n",
      "\n"
     ]
    },
    {
     "name": "stderr",
     "output_type": "stream",
     "text": [
      "C:\\Users\\22004\\anaconda3\\lib\\site-packages\\sklearn\\metrics\\_regression.py:682: UndefinedMetricWarning: R^2 score is not well-defined with less than two samples.\n",
      "  warnings.warn(msg, UndefinedMetricWarning)\n"
     ]
    },
    {
     "name": "stdout",
     "output_type": "stream",
     "text": [
      "Date: 2024-10-24T00:00:00.000000000\n",
      "Predicted Value: [4.03895451]\n",
      "Actual Value: [7.3391487]\n",
      "Mean Squared Error: 10.891281676529958\n",
      "R-squared Score: nan\n",
      "\n",
      "\n"
     ]
    },
    {
     "name": "stderr",
     "output_type": "stream",
     "text": [
      "C:\\Users\\22004\\anaconda3\\lib\\site-packages\\sklearn\\metrics\\_regression.py:682: UndefinedMetricWarning: R^2 score is not well-defined with less than two samples.\n",
      "  warnings.warn(msg, UndefinedMetricWarning)\n"
     ]
    },
    {
     "name": "stdout",
     "output_type": "stream",
     "text": [
      "Date: 2024-10-25T00:00:00.000000000\n",
      "Predicted Value: [4.84038398]\n",
      "Actual Value: [5.8550919]\n",
      "Mean Squared Error: 1.029632169242202\n",
      "R-squared Score: nan\n",
      "\n",
      "\n"
     ]
    },
    {
     "name": "stderr",
     "output_type": "stream",
     "text": [
      "C:\\Users\\22004\\anaconda3\\lib\\site-packages\\sklearn\\metrics\\_regression.py:682: UndefinedMetricWarning: R^2 score is not well-defined with less than two samples.\n",
      "  warnings.warn(msg, UndefinedMetricWarning)\n"
     ]
    },
    {
     "name": "stdout",
     "output_type": "stream",
     "text": [
      "Date: 2024-10-28T00:00:00.000000000\n",
      "Predicted Value: [5.50852917]\n",
      "Actual Value: [3.6117081]\n",
      "Mean Squared Error: 3.597930184647821\n",
      "R-squared Score: nan\n",
      "\n",
      "\n"
     ]
    },
    {
     "name": "stderr",
     "output_type": "stream",
     "text": [
      "C:\\Users\\22004\\anaconda3\\lib\\site-packages\\sklearn\\metrics\\_regression.py:682: UndefinedMetricWarning: R^2 score is not well-defined with less than two samples.\n",
      "  warnings.warn(msg, UndefinedMetricWarning)\n"
     ]
    },
    {
     "name": "stdout",
     "output_type": "stream",
     "text": [
      "Date: 2024-10-29T00:00:00.000000000\n",
      "Predicted Value: [3.14479507]\n",
      "Actual Value: [2.4343613]\n",
      "Mean Squared Error: 0.5047161462311139\n",
      "R-squared Score: nan\n",
      "\n",
      "\n"
     ]
    },
    {
     "name": "stderr",
     "output_type": "stream",
     "text": [
      "C:\\Users\\22004\\anaconda3\\lib\\site-packages\\sklearn\\metrics\\_regression.py:682: UndefinedMetricWarning: R^2 score is not well-defined with less than two samples.\n",
      "  warnings.warn(msg, UndefinedMetricWarning)\n"
     ]
    },
    {
     "name": "stdout",
     "output_type": "stream",
     "text": [
      "Date: 2024-10-30T00:00:00.000000000\n",
      "Predicted Value: [3.05273723]\n",
      "Actual Value: [1.6915416]\n",
      "Mean Squared Error: 1.8528535369779864\n",
      "R-squared Score: nan\n",
      "\n",
      "\n"
     ]
    },
    {
     "name": "stderr",
     "output_type": "stream",
     "text": [
      "C:\\Users\\22004\\anaconda3\\lib\\site-packages\\sklearn\\metrics\\_regression.py:682: UndefinedMetricWarning: R^2 score is not well-defined with less than two samples.\n",
      "  warnings.warn(msg, UndefinedMetricWarning)\n"
     ]
    },
    {
     "name": "stdout",
     "output_type": "stream",
     "text": [
      "Date: 2024-10-31T00:00:00.000000000\n",
      "Predicted Value: [2.37612238]\n",
      "Actual Value: [1.9660364]\n",
      "Mean Squared Error: 0.16817050977876924\n",
      "R-squared Score: nan\n",
      "\n",
      "\n"
     ]
    },
    {
     "name": "stderr",
     "output_type": "stream",
     "text": [
      "C:\\Users\\22004\\anaconda3\\lib\\site-packages\\sklearn\\metrics\\_regression.py:682: UndefinedMetricWarning: R^2 score is not well-defined with less than two samples.\n",
      "  warnings.warn(msg, UndefinedMetricWarning)\n"
     ]
    },
    {
     "name": "stdout",
     "output_type": "stream",
     "text": [
      "Date: 2024-11-01T00:00:00.000000000\n",
      "Predicted Value: [2.18388377]\n",
      "Actual Value: [1.5793046]\n",
      "Mean Squared Error: 0.3655159706940859\n",
      "R-squared Score: nan\n",
      "\n",
      "\n"
     ]
    },
    {
     "name": "stderr",
     "output_type": "stream",
     "text": [
      "C:\\Users\\22004\\anaconda3\\lib\\site-packages\\sklearn\\metrics\\_regression.py:682: UndefinedMetricWarning: R^2 score is not well-defined with less than two samples.\n",
      "  warnings.warn(msg, UndefinedMetricWarning)\n"
     ]
    },
    {
     "name": "stdout",
     "output_type": "stream",
     "text": [
      "Date: 2024-11-04T00:00:00.000000000\n",
      "Predicted Value: [2.27731959]\n",
      "Actual Value: [2.4784421]\n",
      "Mean Squared Error: 0.04045026450329435\n",
      "R-squared Score: nan\n",
      "\n",
      "\n"
     ]
    },
    {
     "name": "stderr",
     "output_type": "stream",
     "text": [
      "C:\\Users\\22004\\anaconda3\\lib\\site-packages\\sklearn\\metrics\\_regression.py:682: UndefinedMetricWarning: R^2 score is not well-defined with less than two samples.\n",
      "  warnings.warn(msg, UndefinedMetricWarning)\n"
     ]
    },
    {
     "name": "stdout",
     "output_type": "stream",
     "text": [
      "Date: 2024-11-05T00:00:00.000000000\n",
      "Predicted Value: [2.41895758]\n",
      "Actual Value: [2.3729856]\n",
      "Mean Squared Error: 0.002113422687680118\n",
      "R-squared Score: nan\n",
      "\n",
      "\n"
     ]
    },
    {
     "name": "stderr",
     "output_type": "stream",
     "text": [
      "C:\\Users\\22004\\anaconda3\\lib\\site-packages\\sklearn\\metrics\\_regression.py:682: UndefinedMetricWarning: R^2 score is not well-defined with less than two samples.\n",
      "  warnings.warn(msg, UndefinedMetricWarning)\n"
     ]
    },
    {
     "name": "stdout",
     "output_type": "stream",
     "text": [
      "Date: 2024-11-06T00:00:00.000000000\n",
      "Predicted Value: [3.16280857]\n",
      "Actual Value: [7.7672528]\n",
      "Mean Squared Error: 21.200906676666918\n",
      "R-squared Score: nan\n",
      "\n",
      "\n"
     ]
    },
    {
     "name": "stderr",
     "output_type": "stream",
     "text": [
      "C:\\Users\\22004\\anaconda3\\lib\\site-packages\\sklearn\\metrics\\_regression.py:682: UndefinedMetricWarning: R^2 score is not well-defined with less than two samples.\n",
      "  warnings.warn(msg, UndefinedMetricWarning)\n"
     ]
    },
    {
     "name": "stdout",
     "output_type": "stream",
     "text": [
      "Date: 2024-11-07T00:00:00.000000000\n",
      "Predicted Value: [5.22742176]\n",
      "Actual Value: [3.7395667]\n",
      "Mean Squared Error: 2.2137126652552754\n",
      "R-squared Score: nan\n",
      "\n",
      "\n"
     ]
    },
    {
     "name": "stderr",
     "output_type": "stream",
     "text": [
      "C:\\Users\\22004\\anaconda3\\lib\\site-packages\\sklearn\\metrics\\_regression.py:682: UndefinedMetricWarning: R^2 score is not well-defined with less than two samples.\n",
      "  warnings.warn(msg, UndefinedMetricWarning)\n"
     ]
    },
    {
     "name": "stdout",
     "output_type": "stream",
     "text": [
      "Date: 2024-11-08T00:00:00.000000000\n",
      "Predicted Value: [3.81102156]\n",
      "Actual Value: [5.1742915]\n",
      "Mean Squared Error: 1.8585049227368766\n",
      "R-squared Score: nan\n",
      "\n",
      "\n"
     ]
    },
    {
     "name": "stderr",
     "output_type": "stream",
     "text": [
      "C:\\Users\\22004\\anaconda3\\lib\\site-packages\\sklearn\\metrics\\_regression.py:682: UndefinedMetricWarning: R^2 score is not well-defined with less than two samples.\n",
      "  warnings.warn(msg, UndefinedMetricWarning)\n"
     ]
    },
    {
     "name": "stdout",
     "output_type": "stream",
     "text": [
      "Date: 2024-11-11T00:00:00.000000000\n",
      "Predicted Value: [5.43749994]\n",
      "Actual Value: [7.0028742]\n",
      "Mean Squared Error: 2.450396560971119\n",
      "R-squared Score: nan\n",
      "\n",
      "\n"
     ]
    },
    {
     "name": "stderr",
     "output_type": "stream",
     "text": [
      "C:\\Users\\22004\\anaconda3\\lib\\site-packages\\sklearn\\metrics\\_regression.py:682: UndefinedMetricWarning: R^2 score is not well-defined with less than two samples.\n",
      "  warnings.warn(msg, UndefinedMetricWarning)\n"
     ]
    },
    {
     "name": "stdout",
     "output_type": "stream",
     "text": [
      "Date: 2024-11-12T00:00:00.000000000\n",
      "Predicted Value: [5.14354477]\n",
      "Actual Value: [4.9876702]\n",
      "Mean Squared Error: 0.02429688050661239\n",
      "R-squared Score: nan\n",
      "\n",
      "\n"
     ]
    },
    {
     "name": "stderr",
     "output_type": "stream",
     "text": [
      "C:\\Users\\22004\\anaconda3\\lib\\site-packages\\sklearn\\metrics\\_regression.py:682: UndefinedMetricWarning: R^2 score is not well-defined with less than two samples.\n",
      "  warnings.warn(msg, UndefinedMetricWarning)\n"
     ]
    },
    {
     "name": "stdout",
     "output_type": "stream",
     "text": [
      "Date: 2024-11-13T00:00:00.000000000\n",
      "Predicted Value: [5.14641327]\n",
      "Actual Value: [4.7601829]\n",
      "Mean Squared Error: 0.14917390061091418\n",
      "R-squared Score: nan\n",
      "\n",
      "\n"
     ]
    },
    {
     "name": "stderr",
     "output_type": "stream",
     "text": [
      "C:\\Users\\22004\\anaconda3\\lib\\site-packages\\sklearn\\metrics\\_regression.py:682: UndefinedMetricWarning: R^2 score is not well-defined with less than two samples.\n",
      "  warnings.warn(msg, UndefinedMetricWarning)\n"
     ]
    },
    {
     "name": "stdout",
     "output_type": "stream",
     "text": [
      "Date: 2024-11-14T00:00:00.000000000\n",
      "Predicted Value: [3.42682228]\n",
      "Actual Value: [3.3559892]\n",
      "Mean Squared Error: 0.0050173250466222195\n",
      "R-squared Score: nan\n",
      "\n",
      "\n"
     ]
    },
    {
     "name": "stderr",
     "output_type": "stream",
     "text": [
      "C:\\Users\\22004\\anaconda3\\lib\\site-packages\\sklearn\\metrics\\_regression.py:682: UndefinedMetricWarning: R^2 score is not well-defined with less than two samples.\n",
      "  warnings.warn(msg, UndefinedMetricWarning)\n"
     ]
    },
    {
     "name": "stdout",
     "output_type": "stream",
     "text": [
      "Date: 2024-11-15T00:00:00.000000000\n",
      "Predicted Value: [2.94544038]\n",
      "Actual Value: [3.9399744]\n",
      "Mean Squared Error: 0.9890979196225382\n",
      "R-squared Score: nan\n",
      "\n",
      "\n"
     ]
    },
    {
     "name": "stderr",
     "output_type": "stream",
     "text": [
      "C:\\Users\\22004\\anaconda3\\lib\\site-packages\\sklearn\\metrics\\_regression.py:682: UndefinedMetricWarning: R^2 score is not well-defined with less than two samples.\n",
      "  warnings.warn(msg, UndefinedMetricWarning)\n"
     ]
    },
    {
     "name": "stdout",
     "output_type": "stream",
     "text": [
      "Date: 2024-11-18T00:00:00.000000000\n",
      "Predicted Value: [4.31611714]\n",
      "Actual Value: [4.5067823]\n",
      "Mean Squared Error: 0.036353204908007516\n",
      "R-squared Score: nan\n",
      "\n",
      "\n"
     ]
    },
    {
     "name": "stderr",
     "output_type": "stream",
     "text": [
      "C:\\Users\\22004\\anaconda3\\lib\\site-packages\\sklearn\\metrics\\_regression.py:682: UndefinedMetricWarning: R^2 score is not well-defined with less than two samples.\n",
      "  warnings.warn(msg, UndefinedMetricWarning)\n"
     ]
    },
    {
     "name": "stdout",
     "output_type": "stream",
     "text": [
      "Date: 2024-11-19T00:00:00.000000000\n",
      "Predicted Value: [3.50583294]\n",
      "Actual Value: [2.7783154]\n",
      "Mean Squared Error: 0.5292817696109483\n",
      "R-squared Score: nan\n",
      "\n",
      "\n"
     ]
    },
    {
     "name": "stderr",
     "output_type": "stream",
     "text": [
      "C:\\Users\\22004\\anaconda3\\lib\\site-packages\\sklearn\\metrics\\_regression.py:682: UndefinedMetricWarning: R^2 score is not well-defined with less than two samples.\n",
      "  warnings.warn(msg, UndefinedMetricWarning)\n"
     ]
    },
    {
     "name": "stdout",
     "output_type": "stream",
     "text": [
      "Date: 2024-11-20T00:00:00.000000000\n",
      "Predicted Value: [2.63630499]\n",
      "Actual Value: [2.203258]\n",
      "Mean Squared Error: 0.18752969482927226\n",
      "R-squared Score: nan\n",
      "\n",
      "\n"
     ]
    },
    {
     "name": "stderr",
     "output_type": "stream",
     "text": [
      "C:\\Users\\22004\\anaconda3\\lib\\site-packages\\sklearn\\metrics\\_regression.py:682: UndefinedMetricWarning: R^2 score is not well-defined with less than two samples.\n",
      "  warnings.warn(msg, UndefinedMetricWarning)\n"
     ]
    },
    {
     "name": "stdout",
     "output_type": "stream",
     "text": [
      "Date: 2024-11-21T00:00:00.000000000\n",
      "Predicted Value: [2.33597981]\n",
      "Actual Value: [2.2500104]\n",
      "Mean Squared Error: 0.00739073977556856\n",
      "R-squared Score: nan\n",
      "\n",
      "\n"
     ]
    },
    {
     "name": "stderr",
     "output_type": "stream",
     "text": [
      "C:\\Users\\22004\\anaconda3\\lib\\site-packages\\sklearn\\metrics\\_regression.py:682: UndefinedMetricWarning: R^2 score is not well-defined with less than two samples.\n",
      "  warnings.warn(msg, UndefinedMetricWarning)\n"
     ]
    },
    {
     "name": "stdout",
     "output_type": "stream",
     "text": [
      "Date: 2024-11-22T00:00:00.000000000\n",
      "Predicted Value: [2.10277091]\n",
      "Actual Value: [2.1004015]\n",
      "Mean Squared Error: 5.614105691572183e-06\n",
      "R-squared Score: nan\n",
      "\n",
      "\n"
     ]
    },
    {
     "name": "stderr",
     "output_type": "stream",
     "text": [
      "C:\\Users\\22004\\anaconda3\\lib\\site-packages\\sklearn\\metrics\\_regression.py:682: UndefinedMetricWarning: R^2 score is not well-defined with less than two samples.\n",
      "  warnings.warn(msg, UndefinedMetricWarning)\n"
     ]
    },
    {
     "name": "stdout",
     "output_type": "stream",
     "text": [
      "Date: 2024-11-25T00:00:00.000000000\n",
      "Predicted Value: [3.22771085]\n",
      "Actual Value: [3.2041892]\n",
      "Mean Squared Error: 0.0005532680638811768\n",
      "R-squared Score: nan\n",
      "\n",
      "\n"
     ]
    },
    {
     "name": "stderr",
     "output_type": "stream",
     "text": [
      "C:\\Users\\22004\\anaconda3\\lib\\site-packages\\sklearn\\metrics\\_regression.py:682: UndefinedMetricWarning: R^2 score is not well-defined with less than two samples.\n",
      "  warnings.warn(msg, UndefinedMetricWarning)\n"
     ]
    },
    {
     "name": "stdout",
     "output_type": "stream",
     "text": [
      "Date: 2024-11-26T00:00:00.000000000\n",
      "Predicted Value: [3.07869768]\n",
      "Actual Value: [2.1704507]\n",
      "Mean Squared Error: 0.8249125829094764\n",
      "R-squared Score: nan\n",
      "\n",
      "\n"
     ]
    },
    {
     "name": "stderr",
     "output_type": "stream",
     "text": [
      "C:\\Users\\22004\\anaconda3\\lib\\site-packages\\sklearn\\metrics\\_regression.py:682: UndefinedMetricWarning: R^2 score is not well-defined with less than two samples.\n",
      "  warnings.warn(msg, UndefinedMetricWarning)\n"
     ]
    },
    {
     "name": "stdout",
     "output_type": "stream",
     "text": [
      "Date: 2024-11-27T00:00:00.000000000\n",
      "Predicted Value: [2.23218022]\n",
      "Actual Value: [1.8443164]\n",
      "Mean Squared Error: 0.15043834669715822\n",
      "R-squared Score: nan\n",
      "\n",
      "\n"
     ]
    },
    {
     "name": "stderr",
     "output_type": "stream",
     "text": [
      "C:\\Users\\22004\\anaconda3\\lib\\site-packages\\sklearn\\metrics\\_regression.py:682: UndefinedMetricWarning: R^2 score is not well-defined with less than two samples.\n",
      "  warnings.warn(msg, UndefinedMetricWarning)\n"
     ]
    },
    {
     "name": "stdout",
     "output_type": "stream",
     "text": [
      "Date: 2024-11-29T00:00:00.000000000\n",
      "Predicted Value: [2.21875004]\n",
      "Actual Value: [1.4317807]\n",
      "Mean Squared Error: 0.6193207365283931\n",
      "R-squared Score: nan\n",
      "\n",
      "\n"
     ]
    },
    {
     "name": "stderr",
     "output_type": "stream",
     "text": [
      "C:\\Users\\22004\\anaconda3\\lib\\site-packages\\sklearn\\metrics\\_regression.py:682: UndefinedMetricWarning: R^2 score is not well-defined with less than two samples.\n",
      "  warnings.warn(msg, UndefinedMetricWarning)\n"
     ]
    },
    {
     "name": "stdout",
     "output_type": "stream",
     "text": [
      "Date: 2024-12-02T00:00:00.000000000\n",
      "Predicted Value: [2.3351205]\n",
      "Actual Value: [2.538196]\n",
      "Mean Squared Error: 0.04123965749798134\n",
      "R-squared Score: nan\n",
      "\n",
      "\n"
     ]
    },
    {
     "name": "stderr",
     "output_type": "stream",
     "text": [
      "C:\\Users\\22004\\anaconda3\\lib\\site-packages\\sklearn\\metrics\\_regression.py:682: UndefinedMetricWarning: R^2 score is not well-defined with less than two samples.\n",
      "  warnings.warn(msg, UndefinedMetricWarning)\n"
     ]
    },
    {
     "name": "stdout",
     "output_type": "stream",
     "text": [
      "Date: 2024-12-03T00:00:00.000000000\n",
      "Predicted Value: [4.05718558]\n",
      "Actual Value: [1.8361997]\n",
      "Mean Squared Error: 4.932778265700064\n",
      "R-squared Score: nan\n",
      "\n",
      "\n"
     ]
    },
    {
     "name": "stderr",
     "output_type": "stream",
     "text": [
      "C:\\Users\\22004\\anaconda3\\lib\\site-packages\\sklearn\\metrics\\_regression.py:682: UndefinedMetricWarning: R^2 score is not well-defined with less than two samples.\n",
      "  warnings.warn(msg, UndefinedMetricWarning)\n"
     ]
    },
    {
     "name": "stdout",
     "output_type": "stream",
     "text": [
      "Date: 2024-12-04T00:00:00.000000000\n",
      "Predicted Value: [2.30974712]\n",
      "Actual Value: [1.3835859]\n",
      "Mean Squared Error: 0.8577746043948749\n",
      "R-squared Score: nan\n",
      "\n",
      "\n"
     ]
    },
    {
     "name": "stderr",
     "output_type": "stream",
     "text": [
      "C:\\Users\\22004\\anaconda3\\lib\\site-packages\\sklearn\\metrics\\_regression.py:682: UndefinedMetricWarning: R^2 score is not well-defined with less than two samples.\n",
      "  warnings.warn(msg, UndefinedMetricWarning)\n"
     ]
    },
    {
     "name": "stdout",
     "output_type": "stream",
     "text": [
      "Date: 2024-12-05T00:00:00.000000000\n",
      "Predicted Value: [2.47860104]\n",
      "Actual Value: [3.1697068]\n",
      "Mean Squared Error: 0.47762716524362653\n",
      "R-squared Score: nan\n",
      "\n",
      "\n"
     ]
    },
    {
     "name": "stderr",
     "output_type": "stream",
     "text": [
      "C:\\Users\\22004\\anaconda3\\lib\\site-packages\\sklearn\\metrics\\_regression.py:682: UndefinedMetricWarning: R^2 score is not well-defined with less than two samples.\n",
      "  warnings.warn(msg, UndefinedMetricWarning)\n"
     ]
    },
    {
     "name": "stdout",
     "output_type": "stream",
     "text": [
      "Date: 2024-12-06T00:00:00.000000000\n",
      "Predicted Value: [2.61595351]\n",
      "Actual Value: [2.3231521]\n",
      "Mean Squared Error: 0.0857326664064888\n",
      "R-squared Score: nan\n",
      "\n",
      "\n"
     ]
    },
    {
     "name": "stderr",
     "output_type": "stream",
     "text": [
      "C:\\Users\\22004\\anaconda3\\lib\\site-packages\\sklearn\\metrics\\_regression.py:682: UndefinedMetricWarning: R^2 score is not well-defined with less than two samples.\n",
      "  warnings.warn(msg, UndefinedMetricWarning)\n"
     ]
    },
    {
     "name": "stdout",
     "output_type": "stream",
     "text": [
      "Date: 2024-12-09T00:00:00.000000000\n",
      "Predicted Value: [3.96956587]\n",
      "Actual Value: [3.6402843]\n",
      "Mean Squared Error: 0.10842635270388579\n",
      "R-squared Score: nan\n",
      "\n",
      "\n"
     ]
    },
    {
     "name": "stderr",
     "output_type": "stream",
     "text": [
      "C:\\Users\\22004\\anaconda3\\lib\\site-packages\\sklearn\\metrics\\_regression.py:682: UndefinedMetricWarning: R^2 score is not well-defined with less than two samples.\n",
      "  warnings.warn(msg, UndefinedMetricWarning)\n"
     ]
    },
    {
     "name": "stdout",
     "output_type": "stream",
     "text": [
      "Date: 2024-12-10T00:00:00.000000000\n",
      "Predicted Value: [3.12454977]\n",
      "Actual Value: [3.1986429]\n",
      "Mean Squared Error: 0.005489791314556763\n",
      "R-squared Score: nan\n",
      "\n",
      "\n"
     ]
    },
    {
     "name": "stderr",
     "output_type": "stream",
     "text": [
      "C:\\Users\\22004\\anaconda3\\lib\\site-packages\\sklearn\\metrics\\_regression.py:682: UndefinedMetricWarning: R^2 score is not well-defined with less than two samples.\n",
      "  warnings.warn(msg, UndefinedMetricWarning)\n"
     ]
    },
    {
     "name": "stdout",
     "output_type": "stream",
     "text": [
      "Date: 2024-12-11T00:00:00.000000000\n",
      "Predicted Value: [2.79563968]\n",
      "Actual Value: [2.7166795]\n",
      "Mean Squared Error: 0.006234709760296326\n",
      "R-squared Score: nan\n",
      "\n",
      "\n"
     ]
    },
    {
     "name": "stderr",
     "output_type": "stream",
     "text": [
      "C:\\Users\\22004\\anaconda3\\lib\\site-packages\\sklearn\\metrics\\_regression.py:682: UndefinedMetricWarning: R^2 score is not well-defined with less than two samples.\n",
      "  warnings.warn(msg, UndefinedMetricWarning)\n"
     ]
    },
    {
     "name": "stdout",
     "output_type": "stream",
     "text": [
      "Date: 2024-12-12T00:00:00.000000000\n",
      "Predicted Value: [4.73003113]\n",
      "Actual Value: [3.2023065]\n",
      "Mean Squared Error: 2.333942535820752\n",
      "R-squared Score: nan\n",
      "\n",
      "\n"
     ]
    },
    {
     "name": "stderr",
     "output_type": "stream",
     "text": [
      "C:\\Users\\22004\\anaconda3\\lib\\site-packages\\sklearn\\metrics\\_regression.py:682: UndefinedMetricWarning: R^2 score is not well-defined with less than two samples.\n",
      "  warnings.warn(msg, UndefinedMetricWarning)\n"
     ]
    },
    {
     "name": "stdout",
     "output_type": "stream",
     "text": [
      "Date: 2024-12-13T00:00:00.000000000\n",
      "Predicted Value: [3.04546931]\n",
      "Actual Value: [2.5402222]\n",
      "Mean Squared Error: 0.255274647054014\n",
      "R-squared Score: nan\n",
      "\n",
      "\n"
     ]
    },
    {
     "name": "stderr",
     "output_type": "stream",
     "text": [
      "C:\\Users\\22004\\anaconda3\\lib\\site-packages\\sklearn\\metrics\\_regression.py:682: UndefinedMetricWarning: R^2 score is not well-defined with less than two samples.\n",
      "  warnings.warn(msg, UndefinedMetricWarning)\n"
     ]
    },
    {
     "name": "stdout",
     "output_type": "stream",
     "text": [
      "Date: 2024-12-16T00:00:00.000000000\n",
      "Predicted Value: [3.76363714]\n",
      "Actual Value: [3.2720825]\n",
      "Mean Squared Error: 0.24162596784138965\n",
      "R-squared Score: nan\n",
      "\n",
      "\n"
     ]
    },
    {
     "name": "stderr",
     "output_type": "stream",
     "text": [
      "C:\\Users\\22004\\anaconda3\\lib\\site-packages\\sklearn\\metrics\\_regression.py:682: UndefinedMetricWarning: R^2 score is not well-defined with less than two samples.\n",
      "  warnings.warn(msg, UndefinedMetricWarning)\n"
     ]
    },
    {
     "name": "stdout",
     "output_type": "stream",
     "text": [
      "Date: 2024-12-17T00:00:00.000000000\n",
      "Predicted Value: [3.08813636]\n",
      "Actual Value: [4.8299703]\n",
      "Mean Squared Error: 3.033985471401296\n",
      "R-squared Score: nan\n",
      "\n",
      "\n"
     ]
    },
    {
     "name": "stderr",
     "output_type": "stream",
     "text": [
      "C:\\Users\\22004\\anaconda3\\lib\\site-packages\\sklearn\\metrics\\_regression.py:682: UndefinedMetricWarning: R^2 score is not well-defined with less than two samples.\n",
      "  warnings.warn(msg, UndefinedMetricWarning)\n"
     ]
    },
    {
     "name": "stdout",
     "output_type": "stream",
     "text": [
      "Date: 2024-12-18T00:00:00.000000000\n",
      "Predicted Value: [3.49511221]\n",
      "Actual Value: [2.9685114]\n",
      "Mean Squared Error: 0.27730841597825867\n",
      "R-squared Score: nan\n",
      "\n",
      "\n"
     ]
    },
    {
     "name": "stderr",
     "output_type": "stream",
     "text": [
      "C:\\Users\\22004\\anaconda3\\lib\\site-packages\\sklearn\\metrics\\_regression.py:682: UndefinedMetricWarning: R^2 score is not well-defined with less than two samples.\n",
      "  warnings.warn(msg, UndefinedMetricWarning)\n"
     ]
    },
    {
     "name": "stdout",
     "output_type": "stream",
     "text": [
      "Date: 2024-12-19T00:00:00.000000000\n",
      "Predicted Value: [3.90968094]\n",
      "Actual Value: [3.6683349]\n",
      "Mean Squared Error: 0.058247913374408024\n",
      "R-squared Score: nan\n",
      "\n",
      "\n"
     ]
    },
    {
     "name": "stderr",
     "output_type": "stream",
     "text": [
      "C:\\Users\\22004\\anaconda3\\lib\\site-packages\\sklearn\\metrics\\_regression.py:682: UndefinedMetricWarning: R^2 score is not well-defined with less than two samples.\n",
      "  warnings.warn(msg, UndefinedMetricWarning)\n"
     ]
    },
    {
     "name": "stdout",
     "output_type": "stream",
     "text": [
      "Date: 2024-12-20T00:00:00.000000000\n",
      "Predicted Value: [3.16091209]\n",
      "Actual Value: [3.8459637]\n",
      "Mean Squared Error: 0.4692957038284076\n",
      "R-squared Score: nan\n",
      "\n",
      "\n"
     ]
    },
    {
     "name": "stderr",
     "output_type": "stream",
     "text": [
      "C:\\Users\\22004\\anaconda3\\lib\\site-packages\\sklearn\\metrics\\_regression.py:682: UndefinedMetricWarning: R^2 score is not well-defined with less than two samples.\n",
      "  warnings.warn(msg, UndefinedMetricWarning)\n"
     ]
    },
    {
     "name": "stdout",
     "output_type": "stream",
     "text": [
      "Date: 2024-12-23T00:00:00.000000000\n",
      "Predicted Value: [3.24304158]\n",
      "Actual Value: [2.5287333]\n",
      "Mean Squared Error: 0.5102363201624511\n",
      "R-squared Score: nan\n",
      "\n",
      "\n"
     ]
    },
    {
     "name": "stderr",
     "output_type": "stream",
     "text": [
      "C:\\Users\\22004\\anaconda3\\lib\\site-packages\\sklearn\\metrics\\_regression.py:682: UndefinedMetricWarning: R^2 score is not well-defined with less than two samples.\n",
      "  warnings.warn(msg, UndefinedMetricWarning)\n"
     ]
    },
    {
     "name": "stdout",
     "output_type": "stream",
     "text": [
      "Date: 2024-12-24T00:00:00.000000000\n",
      "Predicted Value: [2.45944046]\n",
      "Actual Value: [2.4164695]\n",
      "Mean Squared Error: 0.0018465033749672048\n",
      "R-squared Score: nan\n",
      "\n",
      "\n"
     ]
    },
    {
     "name": "stderr",
     "output_type": "stream",
     "text": [
      "C:\\Users\\22004\\anaconda3\\lib\\site-packages\\sklearn\\metrics\\_regression.py:682: UndefinedMetricWarning: R^2 score is not well-defined with less than two samples.\n",
      "  warnings.warn(msg, UndefinedMetricWarning)\n"
     ]
    },
    {
     "name": "stdout",
     "output_type": "stream",
     "text": [
      "Date: 2024-12-26T00:00:00.000000000\n",
      "Predicted Value: [2.2261242]\n",
      "Actual Value: [2.8068141]\n",
      "Mean Squared Error: 0.3372007592186318\n",
      "R-squared Score: nan\n",
      "\n",
      "\n"
     ]
    },
    {
     "name": "stderr",
     "output_type": "stream",
     "text": [
      "C:\\Users\\22004\\anaconda3\\lib\\site-packages\\sklearn\\metrics\\_regression.py:682: UndefinedMetricWarning: R^2 score is not well-defined with less than two samples.\n",
      "  warnings.warn(msg, UndefinedMetricWarning)\n"
     ]
    },
    {
     "name": "stdout",
     "output_type": "stream",
     "text": [
      "Date: 2024-12-27T00:00:00.000000000\n",
      "Predicted Value: [2.40386671]\n",
      "Actual Value: [2.7887011]\n",
      "Mean Squared Error: 0.14809751065146531\n",
      "R-squared Score: nan\n",
      "\n",
      "\n",
      "Date: 2024-12-30T00:00:00.000000000\n",
      "Predicted Value: [2.90733022]\n",
      "Actual Value: [2.402038]\n",
      "Mean Squared Error: 0.255320225561055\n",
      "R-squared Score: nan\n",
      "\n",
      "\n",
      "\n",
      "Overall Mean Squared Error: 1.1847503334282208\n",
      "Overall R-squared Score: 0.4341006790682582\n",
      "Overall Mean Absolute Error: 0.7440819816257502\n",
      "         Date  Actual_Volume  Predicted_Volume  Difference\n",
      "0  2024-10-01       2.553376          2.471833    0.081543\n",
      "1  2024-10-02       3.878096          3.100484    0.777612\n",
      "2  2024-10-03       2.138208          2.796546   -0.658338\n",
      "3  2024-10-04       2.742879          2.993003   -0.250124\n",
      "4  2024-10-07       1.960581          2.630806   -0.670226\n",
      "..        ...            ...               ...         ...\n",
      "58 2024-12-23       2.528733          3.243042   -0.714308\n",
      "59 2024-12-24       2.416469          2.459440   -0.042971\n",
      "60 2024-12-26       2.806814          2.226124    0.580690\n",
      "61 2024-12-27       2.788701          2.403867    0.384834\n",
      "62 2024-12-30       2.402038          2.907330   -0.505292\n",
      "\n",
      "[63 rows x 4 columns]\n"
     ]
    },
    {
     "name": "stderr",
     "output_type": "stream",
     "text": [
      "C:\\Users\\22004\\anaconda3\\lib\\site-packages\\sklearn\\metrics\\_regression.py:682: UndefinedMetricWarning: R^2 score is not well-defined with less than two samples.\n",
      "  warnings.warn(msg, UndefinedMetricWarning)\n"
     ]
    }
   ],
   "source": [
    "import pandas as pd\n",
    "import numpy as np\n",
    "from sklearn.ensemble import RandomForestRegressor\n",
    "from sklearn.metrics import mean_absolute_error, mean_squared_error, r2_score\n",
    "\n",
    "# Load and preprocess data\n",
    "data = pd.read_csv('tsla.csv')\n",
    "if 'day_total_vol' in data.columns:\n",
    "    data['day_total_vol'] = data['day_total_vol'] / 10000000\n",
    "\n",
    "data['Date'] = pd.to_datetime(data['date'])\n",
    "data['Volume'] = data['TSLA_first_hour_vol']  # Predicting first hour volume\n",
    "data['SentimentImpact'] = data['abs_sentiment_score'] * data['news_count']\n",
    "\n",
    "# Create lag features for past 5 days using 'day_total_vol'\n",
    "for lag in range(1, 6):\n",
    "    data[f'DayTotalVol_Lag_{lag}'] = data['day_total_vol'].shift(lag)\n",
    "\n",
    "# Drop rows with NaN values due to lagging\n",
    "data.dropna(inplace=True)\n",
    "\n",
    "# Split data into training and testing sets\n",
    "train_data = data[(data['Date'] >= '2024-01-01') & (data['Date'] <= '2024-09-30')]\n",
    "test_data = data[(data['Date'] >= '2024-10-01') & (data['Date'] <= '2024-12-31')].copy()\n",
    "\n",
    "# Define features and target\n",
    "features = ['SentimentImpact', 'DayTotalVol_Lag_1', 'DayTotalVol_Lag_2', 'DayTotalVol_Lag_3', 'DayTotalVol_Lag_4', 'DayTotalVol_Lag_5']\n",
    "target = 'Volume'\n",
    "\n",
    "# Train the model\n",
    "model = RandomForestRegressor(n_estimators=10000, random_state=500)\n",
    "model.fit(train_data[features], train_data[target])\n",
    "\n",
    "# Feature Importance and Ranking\n",
    "feature_importance = pd.Series(model.feature_importances_, index=features).sort_values(ascending=False)\n",
    "feature_importance_rank = feature_importance.rank(ascending=False)\n",
    "\n",
    "print(\"\\nFeature Importance:\")\n",
    "print(feature_importance)\n",
    "print(\"\\nFeature Importance Rank:\")\n",
    "print(feature_importance_rank)\n",
    "\n",
    "# Testing and rolling prediction\n",
    "test_dates = test_data['Date'].unique()\n",
    "results = []\n",
    "all_predictions = []\n",
    "all_actuals = []\n",
    "\n",
    "for date in test_dates:\n",
    "    current_data = test_data[test_data['Date'] == date]\n",
    "    prediction = model.predict(current_data[features])\n",
    "    actual = current_data[target].values\n",
    "\n",
    "    all_predictions.extend(prediction)\n",
    "    all_actuals.extend(actual)\n",
    "\n",
    "    mse = mean_squared_error(actual, prediction)\n",
    "    r2 = r2_score(actual, prediction)\n",
    "\n",
    "    for i in range(len(actual)):\n",
    "        results.append({\n",
    "            'Date': date, \n",
    "            'Actual_Volume': actual[i], \n",
    "            'Predicted_Volume': prediction[i], \n",
    "            'Difference': actual[i] - prediction[i]\n",
    "        })\n",
    "\n",
    "    print(f\"Date: {date}\")\n",
    "    print(f\"Predicted Value: {prediction}\")\n",
    "    print(f\"Actual Value: {actual}\")\n",
    "    print(f\"Mean Squared Error: {mse}\")\n",
    "    print(f\"R-squared Score: {r2}\")\n",
    "    print(\"\\n\")\n",
    "    \n",
    "    # Update the lag features with actual values for rolling prediction\n",
    "    for idx, row in current_data.iterrows():\n",
    "        future_mask = (test_data['Date'] > date)\n",
    "\n",
    "        for lag in range(5, 1, -1):\n",
    "            current_values = test_data.loc[test_data['Date'] == date, f'DayTotalVol_Lag_{lag-1}'].values\n",
    "\n",
    "            if len(current_values) > 0:\n",
    "                test_data.loc[future_mask, f'DayTotalVol_Lag_{lag}'] = current_values[0]\n",
    "\n",
    "        if idx < len(actual):\n",
    "            test_data.loc[future_mask, 'DayTotalVol_Lag_1'] = actual[idx]\n",
    "\n",
    "# Overall metrics for the whole testing period\n",
    "overall_mse = mean_squared_error(all_actuals, all_predictions)\n",
    "overall_r2 = r2_score(all_actuals, all_predictions)\n",
    "overall_mae = mean_absolute_error(all_actuals, all_predictions)\n",
    "\n",
    "print(f\"\\nOverall Mean Squared Error: {overall_mse}\")\n",
    "print(f\"Overall R-squared Score: {overall_r2}\")\n",
    "print(f\"Overall Mean Absolute Error: {overall_mae}\")\n",
    "\n",
    "# Convert results to DataFrame and display\n",
    "results_df = pd.DataFrame(results)\n",
    "print(results_df)\n",
    "\n",
    "# Save the results to a CSV file\n",
    "results_df.to_csv('tsla_prediction_results.csv', index=False)\n"
   ]
  },
  {
   "cell_type": "code",
   "execution_count": 9,
   "id": "bdbf51b8",
   "metadata": {},
   "outputs": [
    {
     "name": "stdout",
     "output_type": "stream",
     "text": [
      "\n",
      "95% Confidence Interval for Residuals: (-2.065330854255862, 2.1939839733632525)\n"
     ]
    },
    {
     "data": {
      "image/png": "[encoded data removed]",
      "text/plain": [
       "<Figure size 1008x432 with 1 Axes>"
      ]
     },
     "metadata": {
      "needs_background": "light"
     },
     "output_type": "display_data"
    }
   ],
   "source": [
    "import numpy as np\n",
    "import matplotlib.pyplot as plt\n",
    "# Calculate residuals\n",
    "residuals = np.array(all_predictions) - np.array(all_actuals)\n",
    "\n",
    "# Calculate 95% Confidence Intervals\n",
    "mean_residual = np.mean(residuals)\n",
    "std_residual = np.std(residuals)\n",
    "\n",
    "ci_lower = mean_residual - 1.96 * std_residual\n",
    "ci_upper = mean_residual + 1.96 * std_residual\n",
    "\n",
    "print(f\"\\n95% Confidence Interval for Residuals: ({ci_lower}, {ci_upper})\")\n",
    "\n",
    "results_df['CI_Lower'] = results_df['Predicted_Volume'] + ci_lower\n",
    "results_df['CI_Upper'] = results_df['Predicted_Volume'] + ci_upper\n",
    "\n",
    "# Plot Actual vs. Predicted Volumes with Adjusted Confidence Intervals\n",
    "plt.figure(figsize=(14, 6))\n",
    "plt.plot(results_df['Date'], results_df['Actual_Volume'], label='Actual Volume', linestyle='-', marker='o')\n",
    "plt.plot(results_df['Date'], results_df['Predicted_Volume'], label='Predicted Volume', linestyle='--', marker='x')\n",
    "plt.fill_between(results_df['Date'], results_df['CI_Lower'], results_df['CI_Upper'], color='gray', label='95% CI')\n",
    "plt.title('Actual vs. Predicted TSLA Volumes Over Time', fontsize=16)\n",
    "plt.xlabel('Date', fontsize=14)\n",
    "plt.ylabel('Volume', fontsize=14)\n",
    "plt.legend()\n",
    "plt.grid(True)\n",
    "plt.tight_layout()\n",
    "plt.show()\n"
   ]
  },
  {
   "cell_type": "code",
   "execution_count": 11,
   "id": "55fa6f2d",
   "metadata": {},
   "outputs": [
    {
     "data": {
      "image/png": "[encoded data removed]",
      "text/plain": [
       "<Figure size 1008x432 with 1 Axes>"
      ]
     },
     "metadata": {
      "needs_background": "light"
     },
     "output_type": "display_data"
    },
    {
     "data": {
      "image/png": "[encoded data removed]",
      "text/plain": [
       "<Figure size 576x576 with 1 Axes>"
      ]
     },
     "metadata": {
      "needs_background": "light"
     },
     "output_type": "display_data"
    }
   ],
   "source": [
    "# Plot the Absolute Difference (Error) over time\n",
    "plt.figure(figsize=(14, 6))\n",
    "plt.plot(results_df['Date'], abs(results_df['Difference']), color='red', linestyle='-', marker='o')\n",
    "plt.title('Prediction Error (Absolute Difference) Over Time', fontsize=16)\n",
    "plt.xlabel('Date', fontsize=14)\n",
    "plt.ylabel('Absolute Difference in Volume', fontsize=14)\n",
    "plt.grid(True)\n",
    "plt.tight_layout()\n",
    "plt.show()\n",
    "\n",
    "# Scatter Plot: Actual vs Predicted\n",
    "plt.figure(figsize=(8, 8))\n",
    "plt.scatter(results_df['Actual_Volume'], results_df['Predicted_Volume'], alpha=0.7)\n",
    "plt.plot([results_df['Actual_Volume'].min(), results_df['Actual_Volume'].max()], \n",
    "         [results_df['Actual_Volume'].min(), results_df['Actual_Volume'].max()], \n",
    "         color='blue', linestyle='--', label='Perfect Prediction Line')\n",
    "plt.title('Actual vs Predicted TSLA Volume', fontsize=16)\n",
    "plt.xlabel('Actual Volume', fontsize=14)\n",
    "plt.ylabel('Predicted Volume', fontsize=14)\n",
    "plt.legend()\n",
    "plt.grid(True)\n",
    "plt.tight_layout()\n",
    "plt.show()"
   ]
  },
  {
   "cell_type": "code",
   "execution_count": null,
   "id": "6687782a",
   "metadata": {},
   "outputs": [],
   "source": []
  }
 ],
 "metadata": {
  "kernelspec": {
   "display_name": "Python 3",
   "language": "python",
   "name": "python3"
  },
  "language_info": {
   "codemirror_mode": {
    "name": "ipython",
    "version": 3
   },
   "file_extension": ".py",
   "mimetype": "text/x-python",
   "name": "python",
   "nbconvert_exporter": "python",
   "pygments_lexer": "ipython3",
   "version": "3.8.8"
  }
 },
 "nbformat": 4,
 "nbformat_minor": 5
}
